{
 "cells": [
  {
   "cell_type": "markdown",
   "id": "7cfd230a-d264-4344-a6ad-e63a19f6bab1",
   "metadata": {},
   "source": [
    "# Data Science Tools and Ecosystem"
   ]
  },
  {
   "cell_type": "markdown",
   "id": "86c7a2fd-79c7-4ae3-a83d-3e2fff8545f3",
   "metadata": {},
   "source": [
    "In this notebook, Data Science Tools and Ecosystem are summarized."
   ]
  },
  {
   "cell_type": "markdown",
   "id": "fd36577c-2d08-42b9-8ac3-056ea4173412",
   "metadata": {},
   "source": [
    "**Objectives:**"
   ]
  },
  {
   "cell_type": "markdown",
   "id": "b0698722-1a10-461d-b4d5-8cff66553ec4",
   "metadata": {
    "tags": []
   },
   "source": [
    "* R\n",
    "* Python\n",
    "* Julia"
   ]
  },
  {
   "cell_type": "markdown",
   "id": "c2da5a23-a535-4f07-8421-18d3e98df198",
   "metadata": {},
   "source": [
    " Some of the popular languages that Data Scientists use are:"
   ]
  },
  {
   "cell_type": "markdown",
   "id": "2bd50a2a-3c47-422a-90ac-3d6d1e0d2c09",
   "metadata": {},
   "source": [
    "1. Python\n",
    "2. R\n",
    "3. Java"
   ]
  },
  {
   "cell_type": "markdown",
   "id": "d99e5049-c039-4846-8af2-609072440b45",
   "metadata": {},
   "source": [
    "### Some of the commonly used libraries used by Data Scientists include:"
   ]
  },
  {
   "cell_type": "markdown",
   "id": "16d4a1f9-e900-4d34-b329-fa9e8cb9c06f",
   "metadata": {},
   "source": [
    "1. Numpy\n",
    "1. Pandas\n",
    "1. SciPy"
   ]
  },
  {
   "cell_type": "markdown",
   "id": "3df38ed2-2f88-4cf4-934d-b3d19fc296a1",
   "metadata": {},
   "source": [
    "### Data Science Tools"
   ]
  },
  {
   "cell_type": "markdown",
   "id": "28951840-55c6-46b0-8826-0c63b4fc57fa",
   "metadata": {},
   "source": [
    "|Data Science Tools|\n",
    "--------------------\n",
    "|RStudio|\n",
    "|Apache Spark|\n",
    "|TensorFlow|\n",
    "|Apache Hadoop|\n"
   ]
  },
  {
   "cell_type": "markdown",
   "id": "68eb2b6a-fda2-4f90-b79c-ecdc9be221f7",
   "metadata": {},
   "source": [
    "### Below are a few examples of evaluating arithmetic expressions in Python"
   ]
  },
  {
   "cell_type": "code",
   "execution_count": 3,
   "id": "71e86e83-88e7-42f6-a8dd-b848a2613910",
   "metadata": {
    "tags": []
   },
   "outputs": [],
   "source": [
    "# This a simple arithmetic expression to mutiply then add integers\n",
    "\n"
   ]
  },
  {
   "cell_type": "code",
   "execution_count": 4,
   "id": "e0caff48-abee-4934-851e-248152d25bde",
   "metadata": {
    "tags": []
   },
   "outputs": [
    {
     "data": {
      "text/plain": [
       "17"
      ]
     },
     "execution_count": 4,
     "metadata": {},
     "output_type": "execute_result"
    }
   ],
   "source": [
    "(3*4)+5"
   ]
  },
  {
   "cell_type": "code",
   "execution_count": 5,
   "id": "1dc4c6ce-5e43-4f0c-931f-3f353fd49ab5",
   "metadata": {
    "tags": []
   },
   "outputs": [],
   "source": [
    "# This will convert 200 minutes to hours by diving by 60"
   ]
  },
  {
   "cell_type": "code",
   "execution_count": 6,
   "id": "5214d0fe-d399-4ccb-bb27-fe4a5bfb917f",
   "metadata": {
    "tags": []
   },
   "outputs": [
    {
     "data": {
      "text/plain": [
       "3.3333333333333335"
      ]
     },
     "execution_count": 6,
     "metadata": {},
     "output_type": "execute_result"
    }
   ],
   "source": [
    "200/60"
   ]
  },
  {
   "cell_type": "markdown",
   "id": "5a8519f9-b236-469f-9f01-1f89fc583ba8",
   "metadata": {},
   "source": [
    "## Author"
   ]
  },
  {
   "cell_type": "markdown",
   "id": "05268024-1c1c-4e5a-9d0f-0e55c75f2b4f",
   "metadata": {},
   "source": [
    "Yara Zaid"
   ]
  },
  {
   "cell_type": "code",
   "execution_count": null,
   "id": "1b93bca5-bb65-4cf8-9b70-1cc622d07f3b",
   "metadata": {},
   "outputs": [],
   "source": []
  }
 ],
 "metadata": {
  "kernelspec": {
   "display_name": "Python",
   "language": "python",
   "name": "conda-env-python-py"
  },
  "language_info": {
   "codemirror_mode": {
    "name": "ipython",
    "version": 3
   },
   "file_extension": ".py",
   "mimetype": "text/x-python",
   "name": "python",
   "nbconvert_exporter": "python",
   "pygments_lexer": "ipython3",
   "version": "3.7.12"
  }
 },
 "nbformat": 4,
 "nbformat_minor": 5
}
